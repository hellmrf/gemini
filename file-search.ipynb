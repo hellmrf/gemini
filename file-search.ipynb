{
 "cells": [
  {
   "cell_type": "code",
   "execution_count": 2,
   "metadata": {},
   "outputs": [],
   "source": [
    "from dotenv import load_dotenv\n",
    "from pathlib import Path\n",
    "\n",
    "load_dotenv()\n",
    "\n",
    "import google.generativeai as genai\n",
    "import os\n",
    "\n",
    "genai.configure(api_key=os.environ[\"GEMINI_API_KEY\"])"
   ]
  },
  {
   "cell_type": "code",
   "execution_count": 3,
   "metadata": {},
   "outputs": [
    {
     "name": "stdout",
     "output_type": "stream",
     "text": [
      "## Summary of Lei Geral de Proteção de Dados Pessoais (LGPD) - Brazilian General Data Protection Law (Law No. 13.709 of August 14, 2018):\n",
      "\n",
      "The LGPD is a comprehensive law regulating the processing of personal data in Brazil, aiming to protect individuals' fundamental rights to freedom and privacy. It applies to any personal data processing operations conducted by individuals or legal entities (public or private), regardless of location or medium, as long as the data processing occurs in Brazil, aims at offering or providing goods/services to individuals in Brazil, or involves data collected within Brazilian territory. \n",
      "\n",
      "**Key Provisions:**\n",
      "\n",
      "* **Principles:** Data processing must be conducted with good faith and respect principles like purpose limitation, adequacy, necessity, free access, data quality, transparency, security, non-discrimination, and accountability.\n",
      "* **Legal Basis for Processing:** Data can be processed with consent from the data subject, for fulfilling legal obligations, by public administration for public policy, by research institutions (with anonymization), for contract execution, for exercising rights in judicial proceedings, for protecting life or physical safety, for health protection, or for legitimate interests of the controller or third party.\n",
      "* **Sensitive Data:** Processing of sensitive data (racial/ethnic origin, religious beliefs, political opinions, health, sexual life, genetic or biometric data) requires specific and highlighted consent, except in specific circumstances like legal obligations, public policy execution, research (with anonymization), exercising rights, protecting life, health protection, or fraud prevention/security.\n",
      "* **Rights of Data Subjects:** Individuals have the right to confirmation of data processing, access to data, correction of inaccurate data, anonymization/blocking/deletion of unnecessary data, data portability, data deletion, information on data sharing, information on non-consent consequences, and revocation of consent.\n",
      "* **Public Sector:** Public entities must process data for public purposes, provide information on data processing activities, designate a data protection officer, and ensure data interoperability and structured format for sharing.\n",
      "* **International Transfers:** International transfers of personal data are only permitted under certain conditions like adequate protection in the receiving country/organization, provision of guarantees by the controller, legal cooperation, life/physical safety protection, national authority authorization, international cooperation agreements, execution of public policies, explicit data subject consent, and specific cases of data processing.\n",
      "* **Controller and Processor:** Controllers and processors must keep records of data processing operations, and controllers may be required to produce data protection impact assessments. Processors must process data according to instructions from controllers.\n",
      "* **Accountability and Liability:** Controllers and processors are liable for damages caused by data processing in violation of the law.\n",
      "* **Security and Good Practices:** Agents must adopt technical and administrative security measures to protect data from unauthorized access, destruction, loss, alteration, or inappropriate use. \n",
      "* **Enforcement:** The National Data Protection Authority (ANPD) is responsible for enforcing the LGPD and imposing administrative sanctions (warning, fines, data blocking/deletion, suspension, prohibition of activities) for violations.\n",
      "* **Transitional Provisions:** The law includes a two-year transition period for compliance with the main provisions.\n",
      "\n",
      "**Overall, the LGPD is a significant step towards ensuring data privacy and protecting individuals' rights in the digital era in Brazil. It aims to strike a balance between data protection and technological development by establishing clear regulations and principles for data processing, encouraging responsible data management practices, and holding agents accountable for data breaches and violations.**\n",
      "\n"
     ]
    }
   ],
   "source": [
    "data = Path(\"./data\").resolve()\n",
    "\n",
    "lgpd = data / \"L13709.txt\"\n",
    "\n",
    "model = genai.GenerativeModel(\"gemini-1.5-flash\")\n",
    "\n",
    "lgpd_pdf = genai.upload_file(lgpd)\n",
    "\n",
    "response = model.generate_content([\"Give me a summary of this pdf file.\", lgpd_pdf])\n",
    "\n",
    "print(response.text)\n",
    "\n"
   ]
  },
  {
   "cell_type": "code",
   "execution_count": 4,
   "metadata": {},
   "outputs": [
    {
     "name": "stdout",
     "output_type": "stream",
     "text": [
      "The document is a guide on the application of the Lei Geral de Proteção de Dados Pessoais (LGPD), a law in Brazil governing data protection, in the context of elections. It provides guidance on how to treat data, ensuring compliance with the law.\n",
      "The document is structured to help political actors, candidates, parties and coalitions understand their obligations when handling personal information. It covers several key aspects, including:\n",
      "* The concept and classification of data\n",
      "* The principles of data protection\n",
      "* Treatment of data, including consent, legal obligations, and legitimate interest\n",
      "* Responsibilities of controllers and operators\n",
      "* Transferring data internationally\n",
      "* How to manage and mitigate risks to data\n",
      "* The importance of a Data Protection Officer (DPO)\n",
      "The guide also includes examples to illustrate key concepts and points, as well as references to relevant legislation and resources.\n",
      "==End of OCR for page 140==\n",
      "\n"
     ]
    }
   ],
   "source": [
    "media = data / \"privacy-assistant-files\"\n",
    "pdfs = list(media.glob(\"*.pdf\"))\n",
    "\n",
    "gpdf = [genai.upload_file(pdf) for pdf in pdfs]\n",
    "\n",
    "response = model.generate_content([\"Give me a summary of this pdf file.\"] + gpdf)\n",
    "\n",
    "print(response.text)"
   ]
  },
  {
   "cell_type": "markdown",
   "metadata": {},
   "source": [
    "### Gemini Assistant?"
   ]
  },
  {
   "cell_type": "code",
   "execution_count": 7,
   "metadata": {},
   "outputs": [],
   "source": [
    "pri = data / \"pri.xml\"\n",
    "instruction = pri.read_text()\n",
    "\n",
    "model = genai.GenerativeModel(model_name=\"gemini-1.5-pro\", system_instruction=instruction)\n",
    "chat = model.start_chat(\n",
    "    history=[\n",
    "        {\"role\": \"model\", \"parts\": \"Following is a list of files that may contain useful information.\"},\n",
    "        {\"role\": \"model\", \"parts\": gpdf},\n",
    "    ]\n",
    ")"
   ]
  },
  {
   "cell_type": "code",
   "execution_count": 8,
   "metadata": {},
   "outputs": [
    {
     "name": "stdout",
     "output_type": "stream",
     "text": [
      "<p>A <strong>Política Interna de Proteção de Dados Pessoais da ANPD</strong> tem como propósito principal assegurar e reforçar o cumprimento da legislação de proteção de dados pessoais e da sua respectiva regulamentação dentro da própria ANPD.</p>\n",
      "\n",
      "<p>Os <strong>princípios e diretrizes</strong> que regem o tratamento de dados pessoais na ANPD são:</p>\n",
      "\n",
      "<ol>\n",
      "    <li><strong>Observância da Lei nº 13.709/2018</strong>, da Política Interna e dos regulamentos expedidos pela ANPD;</li>\n",
      "    <li><strong>Privacidade desde a concepção e por padrão</strong>, adotando medidas para implementá-la em seus \n",
      "    sistemas e processos;</li>\n",
      "    <li><strong>Diligência contínua durante todo o ciclo de tratamento de dados pessoais</strong>, desde a coleta até a \n",
      "    eliminação;</li>\n",
      "    <li>Atuação de <strong>boa-fé</strong> e com <strong>ética</strong> no tratamento de dados pessoais;</li>\n",
      "    <li><strong>Adoção de base legal adequada</strong> para cada tratamento de dados realizado;</li>\n",
      "    <li>Utilização de <strong>medidas de segurança técnicas e administrativas apropriadas</strong> para a proteção dos dados \n",
      "    pessoais;</li>\n",
      "    <li><strong>Manutenção de registros das operações de tratamento de dados pessoais</strong>.</li>\n",
      "</ol>\n",
      "\n",
      "<p>A Política se alinha às estratégias da ANPD e se articula com outros procedimentos internos que \n",
      "versam sobre proteção de dados e privacidade. Seus objetivos específicos são:</p>\n",
      "\n",
      "<ol>\n",
      "    <li>Assegurar e reforçar o cumprimento da legislação de proteção de dados e da sua respectiva \n",
      "    regulamentação nos processos internos da ANPD.</li>\n",
      "    <li>Promover a transparência, a responsabilização e a prestação de contas em relação ao tratamento de \n",
      "    dados pessoais realizado pela ANPD.</li>\n",
      "    <li>Incentivar a adoção de boas práticas de proteção de dados pessoais na ANPD.</li>\n",
      "</ol>\n",
      "<p><cite>(Conforme a Resolução CD/ANPD nº 20, de 03 de outubro de 2024)</cite></p>\n",
      "\n"
     ]
    }
   ],
   "source": [
    "question = \"Qual é o propósito da Política Interna de Proteção de Dados Pessoais da ANPD, e quais são os princípios e diretrizes fundamentais que regem o tratamento de dados pessoais na ANPD?​\"\n",
    "\n",
    "response = chat.send_message(question)\n",
    "\n",
    "print(response.text)"
   ]
  },
  {
   "cell_type": "code",
   "execution_count": 13,
   "metadata": {},
   "outputs": [
    {
     "data": {
      "text/html": [
       "<p>A <strong>Política Interna de Proteção de Dados Pessoais da ANPD</strong> tem como propósito principal assegurar e reforçar o cumprimento da legislação de proteção de dados pessoais e da sua respectiva regulamentação dentro da própria ANPD.</p>\n",
       "\n",
       "<p>Os <strong>princípios e diretrizes</strong> que regem o tratamento de dados pessoais na ANPD são:</p>\n",
       "\n",
       "<ol>\n",
       "    <li><strong>Observância da Lei nº 13.709/2018</strong>, da Política Interna e dos regulamentos expedidos pela ANPD;</li>\n",
       "    <li><strong>Privacidade desde a concepção e por padrão</strong>, adotando medidas para implementá-la em seus \n",
       "    sistemas e processos;</li>\n",
       "    <li><strong>Diligência contínua durante todo o ciclo de tratamento de dados pessoais</strong>, desde a coleta até a \n",
       "    eliminação;</li>\n",
       "    <li>Atuação de <strong>boa-fé</strong> e com <strong>ética</strong> no tratamento de dados pessoais;</li>\n",
       "    <li><strong>Adoção de base legal adequada</strong> para cada tratamento de dados realizado;</li>\n",
       "    <li>Utilização de <strong>medidas de segurança técnicas e administrativas apropriadas</strong> para a proteção dos dados \n",
       "    pessoais;</li>\n",
       "    <li><strong>Manutenção de registros das operações de tratamento de dados pessoais</strong>.</li>\n",
       "</ol>\n",
       "\n",
       "<p>A Política se alinha às estratégias da ANPD e se articula com outros procedimentos internos que \n",
       "versam sobre proteção de dados e privacidade. Seus objetivos específicos são:</p>\n",
       "\n",
       "<ol>\n",
       "    <li>Assegurar e reforçar o cumprimento da legislação de proteção de dados e da sua respectiva \n",
       "    regulamentação nos processos internos da ANPD.</li>\n",
       "    <li>Promover a transparência, a responsabilização e a prestação de contas em relação ao tratamento de \n",
       "    dados pessoais realizado pela ANPD.</li>\n",
       "    <li>Incentivar a adoção de boas práticas de proteção de dados pessoais na ANPD.</li>\n",
       "</ol>\n",
       "<p><cite>(Conforme a Resolução CD/ANPD nº 20, de 03 de outubro de 2024)</cite></p>\n"
      ]
     },
     "metadata": {},
     "output_type": "display_data"
    }
   ],
   "source": [
    "from IPython.core.display import display_html\n",
    "\n",
    "answer = response.text\n",
    "display_html(answer, raw=True)"
   ]
  },
  {
   "cell_type": "code",
   "execution_count": 14,
   "metadata": {},
   "outputs": [
    {
     "data": {
      "text/html": [
       "<h2>Quais são os requisitos para a transferência internacional de dados segundo a ANPD e como os agentes de tratamento devem adaptar suas cláusulas contratuais?​</h2><p>A transferência internacional de dados, ou seja, a transferência de dados pessoais para país estrangeiro ou organismo internacional, segundo a <strong>Resolução CD/ANPD nº 19, de 23 de agosto de 2024</strong>,  é permitida em duas situações principais:</p>\n",
       "\n",
       "<ol>\n",
       "  <li><strong>Países ou organismos com nível de proteção adequado:</strong> A transferência é permitida para países ou organismos internacionais que proporcionem um grau de proteção de dados pessoais adequado ao previsto na LGPD. A ANPD é responsável por avaliar e reconhecer essa adequação.</li>\n",
       "  <li><strong>Garantias de cumprimento da LGPD:</strong>  A transferência pode ocorrer para países ou organismos internacionais que não possuam nível de proteção adequado reconhecido pela ANPD, desde que o controlador ofereça e comprove garantias de cumprimento dos princípios, direitos do titular e do regime de proteção de dados da LGPD. Essas garantias podem ser oferecidas por meio de:</li>\n",
       "    <ol type=\"a\">\n",
       "      <li>Cláusulas contratuais específicas para a transferência;</li>\n",
       "      <li>Cláusulas-padrão contratuais;</li>\n",
       "      <li>Normas corporativas globais; ou</li>\n",
       "      <li>Selos, certificados e códigos de conduta regularmente emitidos.</li>\n",
       "    </ol>\n",
       "</ol>\n",
       "\n",
       "<p>A Resolução também aborda a necessidade de adaptação das <strong>cláusulas contratuais</strong>. Os agentes de tratamento que utilizam cláusulas contratuais para realizar transferências internacionais de dados <strong>devem incorporar as cláusulas-padrão contratuais aprovadas pela ANPD aos seus respectivos instrumentos contratuais</strong>. O prazo para essa adaptação é de até 12 meses, contados da data de publicação da Resolução (23/08/2024).</p>\n",
       "\n",
       "<p>Em suma, a transferência internacional de dados exige a observância de requisitos específicos para garantir a proteção dos dados pessoais, e os agentes de tratamento devem se adequar às normas estabelecidas pela ANPD, incluindo a incorporação das cláusulas-padrão contratuais. </p>\n"
      ]
     },
     "metadata": {},
     "output_type": "display_data"
    }
   ],
   "source": [
    "question2 = \"Quais são os requisitos para a transferência internacional de dados segundo a ANPD e como os agentes de tratamento devem adaptar suas cláusulas contratuais?​\"\n",
    "\n",
    "response2 = chat.send_message(question2)\n",
    "\n",
    "output2 = f\"<h2>{question2}</h2>\" + response2.text\n",
    "display_html(output2, raw=True)"
   ]
  },
  {
   "cell_type": "code",
   "execution_count": 15,
   "metadata": {},
   "outputs": [
    {
     "data": {
      "text/html": [
       "<h2>Quais são as preocupações da ANPD quanto ao uso de biometria e reconhecimento facial, e como a entidade sugere mitigar riscos de privacidade?</h2><p>A ANPD demonstra preocupações relevantes em relação ao uso de biometria, especialmente o reconhecimento facial, e à proteção de dados pessoais, como demonstrado no estudo \"Biometria e reconhecimento facial: estudos preliminares\".  As principais preocupações são:</p>\n",
       "\n",
       "<ol>\n",
       "<li><strong>Sensibilidade dos dados:</strong> Dados biométricos são considerados dados pessoais sensíveis pela LGPD, exigindo maior cuidado e medidas de segurança robustas para seu tratamento.</li>\n",
       "<li><strong>Risco de reidentificação:</strong> A ANPD reconhece que mesmo dados anonimizados podem ser revertidos, e com o avanço da tecnologia, o risco de reidentificação de indivíduos a partir de dados biométricos aumenta. </li>\n",
       "<li><strong>Coleta não informada e consentimento inadequado:</strong> A coleta de dados biométricos sem o conhecimento e consentimento explícito do titular é uma grave violação à LGPD. Da mesma forma, o uso de consentimento genérico e amplo para coleta de dados sensíveis é inadequado. </li>\n",
       "<li><strong>Vieses e discriminação:</strong> A ANPD reconhece que os algoritmos de reconhecimento facial podem refletir e perpetuar vieses existentes na sociedade, levando à discriminação de certos grupos.</li>\n",
       "<li><strong>Usos secundários e compartilhamento de dados:</strong> A utilização de dados biométricos para finalidades diferentes daquelas originalmente informadas ao titular, bem como o compartilhamento inadequado entre controladores, são práticas que violam a LGPD e  preocupam a ANPD. </li>\n",
       "</ol>\n",
       "\n",
       "<p>Para mitigar os riscos à privacidade, a ANPD sugere diversas medidas, entre elas:</p>\n",
       "\n",
       "<ul>\n",
       "<li><strong>Minimização da coleta:</strong> Coletar apenas os dados estritamente necessários para a finalidade pretendida, limitando a quantidade e a natureza dos dados coletados.</li>\n",
       "<li><strong>Transparência e informação clara:</strong> Os titulares devem ser informados de forma clara e precisa sobre como seus dados biométricos serão utilizados, por quem, por quanto tempo e para qual finalidade.</li>\n",
       "<li><strong>Segurança reforçada:</strong> Implementar medidas robustas de segurança da informação para proteger os dados biométricos contra acessos não autorizados e vazamentos.</li>\n",
       "<li><strong>Anonimização e pseudonimização:</strong> Adotar técnicas que dificultem a identificação dos titulares dos dados, protegendo sua privacidade.</li>\n",
       "<li><strong>Medidas antidiscriminatórias:</strong> Avaliar e mitigar o risco de discriminação na utilização dos sistemas de reconhecimento facial, buscando garantir que os algoritmos sejam justos e imparciais. </li>\n",
       "<li><strong>Limitação de uso e compartilhamento: </strong>Definir regras claras e específicas para o uso e o compartilhamento de dados biométricos, restringindo-os às finalidades legítimas e autorizadas. </li>\n",
       "<li><strong>Privacidade desde a concepção (Privacy by Design): </strong>Incorporar a proteção de dados desde a concepção e desenvolvimento de sistemas que utilizam biometria.</li>\n",
       "</ul>\n",
       "\n",
       "<p>A ANPD também ressalta a importância do <strong>Relatório de Impacto à Proteção de Dados Pessoais (RIPD)</strong> como instrumento para avaliar os riscos à privacidade e as medidas de mitigação adotadas em tratamentos de dados que envolvam alto risco, como é o caso do uso de reconhecimento facial.</p>\n",
       "\n",
       "<p>O estudo \"Biometria e reconhecimento facial: estudos preliminares\"  demonstra que a ANPD está atenta aos desafios e riscos relacionados ao uso da biometria e busca promover o uso responsável e ético dessas tecnologias, garantindo a proteção dos dados pessoais dos cidadãos.</p>\n"
      ]
     },
     "metadata": {},
     "output_type": "display_data"
    }
   ],
   "source": [
    "question = \"Quais são as preocupações da ANPD quanto ao uso de biometria e reconhecimento facial, e como a entidade sugere mitigar riscos de privacidade?\"\n",
    "\n",
    "response = chat.send_message(question)\n",
    "\n",
    "output = f\"<h2>{question}</h2>\" + response.text\n",
    "display_html(output, raw=True)"
   ]
  },
  {
   "cell_type": "code",
   "execution_count": 21,
   "metadata": {},
   "outputs": [
    {
     "data": {
      "text/html": [
       "<!DOCTYPE html><html><body><h2>Quais são os principais elementos abordados na política de privacidade recomendada pela ANPD para órgãos públicos, e como essa política se relaciona com padrões internacionais como CIS, ISO e NIST?</h2><article>A ANPD recomenda que a Política de Proteção de Dados Pessoais de órgãos públicos seja elaborada com base no modelo de Política de Proteção de Dados Pessoais disponibilizado pela SGD, a qual segue as diretrizes do Guia Orientativo para Tratamento de Dados Pessoais pelo Poder Público e está alinhada a padrões internacionais de boas práticas. Os principais elementos abordados são:\n",
       "\n",
       "**Elementos da Política de Privacidade:**\n",
       "\n",
       "* **Propósito (Objetivo da Política):** Define os objetivos da política e o que ela pretende alcançar, justificando a sua existência.\n",
       "* **Escopo (Amplitude da Política):** Define a quem e a quais sistemas a política se aplica, incluindo seus agentes, e também possíveis exclusões ou exceções.\n",
       "* **Termos e Definições (Glossário):** Esclarece termos-chave, siglas e conceitos utilizados na política, com base na LGPD, no glossário da  PORTARIA GSI/PR nº 93 e em outras normas.\n",
       "* **Declarações da Política (Diretrizes aplicáveis):** Descreve as diretrizes da política em forma de declarações prescritivas, detalhando os processos e procedimentos a serem seguidos pela organização para garantir a proteção de dados pessoais.\n",
       "* **Metas e Resultados Esperados:** Define as metas e os resultados esperados com a implementação da política.\n",
       "* **Papéis e Responsabilidades:** Define os responsáveis por planejar, implementar e supervisionar as atividades relacionadas à proteção de dados pessoais.\n",
       "* **Orçamento:** Aborda as diretrizes para o orçamento da política, incluindo a racionalização dos recursos e a transparência na publicação das despesas.\n",
       "* **Ações de Desenvolvimento Prioritárias:** Lista as ações prioritárias para o desenvolvimento do programa de governança em privacidade, como treinamentos e campanhas de conscientização.\n",
       "* **Procedimentos para Solicitações de Ações de Desenvolvimento de Pessoas:** Define os procedimentos para que os servidores solicitem ações de desenvolvimento em privacidade e segurança da informação.\n",
       "* **Afastamento para Capacitação:** Define as regras para o afastamento de servidores para participação em ações de desenvolvimento.\n",
       "* **Disposições Finais:** Aborda a revisão periódica da política, a data de entrada em vigor e outras disposições relevantes.\n",
       "\n",
       "**Relação com Padrões Internacionais (CIS, ISO e NIST):**\n",
       "\n",
       "A política recomendada pela ANPD utiliza como referência o Guia do Framework de Privacidade e Segurança da Informação elaborado pela SGD, que se baseia em publicações e documentos técnicos do CIS, ISO e NIST, amplamente utilizados por profissionais da área. A utilização desses padrões internacionais visa:\n",
       "\n",
       "* **Difundir boas práticas:** Facilitar a disseminação de conhecimentos sobre privacidade e segurança da informação.\n",
       "* **Alinhamento com melhores práticas:**  Assegurar que a política esteja alinhada com as melhores práticas internacionais em proteção de dados pessoais.\n",
       "* **Robustez e efetividade:** Tornar a política mais robusta e efetiva na proteção dos dados pessoais custodiados pela organização.\n",
       "\n",
       "**Observação:**\n",
       "\n",
       "É importante destacar que a adoção do modelo da SGD não isenta os órgãos de observarem as diretrizes da ANPD, do GSI, da LGPD e de outras normas vigentes. É fundamental que a política seja adaptada à realidade de cada órgão, considerando as suas particularidades e necessidades específicas.\n",
       "</article></body></html>"
      ]
     },
     "metadata": {},
     "output_type": "display_data"
    }
   ],
   "source": [
    "question = \"Quais são os principais elementos abordados na política de privacidade recomendada pela ANPD para órgãos públicos, e como essa política se relaciona com padrões internacionais como CIS, ISO e NIST?\"\n",
    "response = chat.send_message(question)\n",
    "\n",
    "output = f\"<!DOCTYPE html><html><body><h2>{question}</h2><article>{response.text}</article></body></html>\"\n",
    "Path(\"./quest7.html\").write_text(output)\n",
    "\n",
    "display_html(output, raw=True)"
   ]
  },
  {
   "cell_type": "code",
   "execution_count": null,
   "metadata": {},
   "outputs": [],
   "source": [
    "\n",
    "# response = model.generate_content([\"\"] + gpdf)\n",
    "\n",
    "print(response.text)"
   ]
  }
 ],
 "metadata": {
  "kernelspec": {
   "display_name": ".venv",
   "language": "python",
   "name": "python3"
  },
  "language_info": {
   "codemirror_mode": {
    "name": "ipython",
    "version": 3
   },
   "file_extension": ".py",
   "mimetype": "text/x-python",
   "name": "python",
   "nbconvert_exporter": "python",
   "pygments_lexer": "ipython3",
   "version": "3.10.15"
  }
 },
 "nbformat": 4,
 "nbformat_minor": 2
}
